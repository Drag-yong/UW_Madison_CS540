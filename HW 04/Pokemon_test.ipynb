{
 "cells": [
  {
   "cell_type": "code",
   "execution_count": 263,
   "metadata": {},
   "outputs": [],
   "source": [
    "import csv\n",
    "import numpy as np\n",
    "import matplotlib.pyplot as plt\n",
    "from scipy.cluster.hierarchy import dendrogram, linkage\n",
    "\n",
    "\n",
    "def load_data(filepath):\n",
    "\n",
    "    with open(filepath, encoding=\"UTF8\") as csvfile:\n",
    "        pokemon = csv.DictReader(csvfile)\n",
    "\n",
    "        output = []\n",
    "        for data in pokemon:\n",
    "            output.append(data)\n",
    "\n",
    "        # pop #,Name,Type 1,Type 2,Total\n",
    "        popData = ['#', 'Name', 'Type 1', 'Type 2',\n",
    "                   'Total', 'Generation', 'Legendary']\n",
    "        for data in output:\n",
    "            for key in popData:\n",
    "                data.pop(key)\n",
    "\n",
    "    return output\n",
    "\n",
    "# input: dict representing one Pokemon\n",
    "# output: numpy array of shape (6,) and  dtype int64. The first element is x1 and so\n",
    "# on with the sixth element being x6.\n",
    "\n",
    "\n",
    "def calc_features(row):\n",
    "    output = np.array(np.zeros(6), dtype=np.int64)\n",
    "    output[0] = int(row['Attack'])\n",
    "    output[1] = int(row['Sp. Atk'])\n",
    "    output[2] = int(row['Speed'])\n",
    "    output[3] = int(row['Defense'])\n",
    "    output[4] = int(row['Sp. Def'])\n",
    "    output[5] = int(row['HP'])\n",
    "\n",
    "    return output\n",
    "\n",
    "    # Z[i, 0] and Z[i, 1] represent the indices of the two cluster\n",
    "    # Z[i, 2] represents complete linkage distance between Z[i, 0] and Z[i, 1]\n",
    "    # Z[i, 3] tells the size of the new cluster\n",
    "\n",
    "\n",
    "def hac(features):\n",
    "    featureLength = len(features)\n",
    "\n",
    "    # Create an (n − 1) × 4 array or list.\n",
    "    arr = np.zeros(shape=(featureLength - 1, 4))\n",
    "\n",
    "    # id : size, combined cluster features list\n",
    "    clusterInfo = {}\n",
    "\n",
    "    # Z[i, 0] and Z[i, 1] represent the indices of the two cluster\n",
    "    # Z[i, 2] represents complete linkage distance between Z[i, 0] and Z[i, 1]\n",
    "    # Z[i, 3] tells the size of the new cluster\n",
    "    # distance matrix for each point\n",
    "    dist = np.full([featureLength * 2, featureLength * 2], -1.0)\n",
    "\n",
    "    # This 2D array will store the distance, also! And no updates\n",
    "    # This is just for decreasing the time\n",
    "    distConst = np.zeros(shape=(featureLength, featureLength))\n",
    "\n",
    "    for i in range(featureLength):\n",
    "        # set ID to every single point\n",
    "        clusterInfo.update({i: [1, [i]]})\n",
    "        for j in range(i + 1, featureLength):\n",
    "            x = np.array([features[i], features[j]])\n",
    "            # Use numpy.linalg.norm()\n",
    "            dist[i][j] = dist[j][i] = distConst[i][j] = distConst[j][i] = np.linalg.norm(\n",
    "                abs(features[i] - features[j]))\n",
    "\n",
    "    # Iterate through this array/list row by row.\n",
    "    index = featureLength  # This index will update the new cluster.\n",
    "\n",
    "    for row in arr:\n",
    "        # Determine which two clusters you should merge and put their numbers into the\n",
    "        # first and second elements of the row, Z[i, 0] and Z[i, 1] and Z[i, 0] < Z[i, 1].\n",
    "        min = -1\n",
    "        for i in range(featureLength * 2):\n",
    "            for j in range(i + 1, featureLength * 2):\n",
    "                # This ith jth cluster is used\n",
    "                if dist[i][j] == -99:\n",
    "                    continue\n",
    "                if dist[i][j] != -1:\n",
    "                    # This cluster has a distance\n",
    "                    if min == -1:\n",
    "                        min = dist[i][j]\n",
    "                        feature1 = i\n",
    "                        feature2 = j\n",
    "                    elif min > dist[i][j]:\n",
    "                        min = dist[i][j]\n",
    "                        feature1 = i\n",
    "                        feature2 = j\n",
    "\n",
    "        row[0] = feature1\n",
    "        row[1] = feature2\n",
    "        row[2] = min\n",
    "        row[3] = clusterInfo[feature1][0] + clusterInfo[feature2][0]\n",
    "\n",
    "        # Update the distance matrix that used.\n",
    "        for i in range(featureLength * 2):\n",
    "            dist[feature1][i] = -99\n",
    "            dist[feature2][i] = -99\n",
    "        for i in dist:\n",
    "            i[feature1] = -99\n",
    "            i[feature2] = -99\n",
    "\n",
    "        # set ID to the new cluster\n",
    "        infos = []\n",
    "        for i in clusterInfo[feature1][1]:\n",
    "            infos.append(i)\n",
    "        for i in clusterInfo[feature2][1]:\n",
    "            infos.append(i)\n",
    "\n",
    "        # Delete the cluster which is used\n",
    "        clusterInfo.pop(feature1)\n",
    "        clusterInfo.pop(feature2)\n",
    "\n",
    "        clusterInfo.update({index: [row[3], infos]})\n",
    "\n",
    "        # Update the distance between the new cluster and the existing cluster\n",
    "        for i in range(0, featureLength * 2):\n",
    "            if i in clusterInfo.keys():\n",
    "                # Access every nodes in the cluster\n",
    "                for firstItem in clusterInfo[i][1]:\n",
    "                    for secondItem in clusterInfo[index][1]:\n",
    "                        v = distConst[firstItem][secondItem]\n",
    "                        # Set the maximum value of the distance between two clusters\n",
    "                        if i != index and v > dist[i][index]:\n",
    "                            dist[i][index] = dist[index][i] = v\n",
    "\n",
    "        # Update the cluster ID\n",
    "        index += 1\n",
    "\n",
    "    return arr\n",
    "\n",
    "\n",
    "def imshow_hac(Z):\n",
    "    dn = dendrogram(Z)\n",
    "    plt.show()\n"
   ]
  },
  {
   "cell_type": "code",
   "execution_count": 264,
   "metadata": {},
   "outputs": [],
   "source": [
    "# load_data check\n",
    "pokemon_list = load_data(\"Pokemon.csv\")\n",
    "# display(pokemon_list)"
   ]
  },
  {
   "cell_type": "code",
   "execution_count": 265,
   "metadata": {},
   "outputs": [],
   "source": [
    "# calc_features check\n",
    "np_pokemon_list = []\n",
    "np_pokemon_list.append(calc_features(pokemon_list[0]))\n",
    "np_pokemon_list.append(calc_features(pokemon_list[1]))\n",
    "np_pokemon_list.append(calc_features(pokemon_list[2]))\n",
    "np_pokemon_list.append(calc_features(pokemon_list[3]))\n",
    "np_pokemon_list.append(calc_features(pokemon_list[4]))\n",
    "np_pokemon_list.append(calc_features(pokemon_list[5]))\n",
    "# display(np_pokemon_list)\n"
   ]
  },
  {
   "cell_type": "code",
   "execution_count": 266,
   "metadata": {},
   "outputs": [
    {
     "data": {
      "text/plain": [
       "array([[  1.        ,   5.        ,  25.65151068,   2.        ],\n",
       "       [  0.        ,   4.        ,  27.03701167,   2.        ],\n",
       "       [  6.        ,   7.        ,  47.60252094,   4.        ],\n",
       "       [  2.        ,   3.        ,  52.9905652 ,   2.        ],\n",
       "       [  8.        ,   9.        , 139.11865439,   6.        ]])"
      ]
     },
     "execution_count": 266,
     "metadata": {},
     "output_type": "execute_result"
    }
   ],
   "source": [
    "# hac check\n",
    "hac(np_pokemon_list)"
   ]
  },
  {
   "cell_type": "code",
   "execution_count": 267,
   "metadata": {},
   "outputs": [
    {
     "data": {
      "text/plain": [
       "array([[ 13.        ,  16.        ,  10.        ,   2.        ],\n",
       "       [ 14.        ,  17.        ,  10.        ,   2.        ],\n",
       "       [ 24.        ,  26.        ,  14.03566885,   2.        ],\n",
       "       [  3.        ,  12.        ,  14.73091986,   2.        ],\n",
       "       [ 25.        ,  27.        ,  20.42057786,   2.        ],\n",
       "       [  0.        ,   9.        ,  22.09072203,   2.        ],\n",
       "       [  1.        ,  10.        ,  22.8035085 ,   2.        ],\n",
       "       [  2.        ,  11.        ,  23.34523506,   2.        ],\n",
       "       [  4.        ,  28.        ,  24.43358345,   2.        ],\n",
       "       [ 20.        ,  32.        ,  24.53568829,   3.        ],\n",
       "       [ 29.        ,  34.        ,  28.39013913,   3.        ],\n",
       "       [  5.        ,  15.        ,  29.22327839,   2.        ],\n",
       "       [  6.        ,  23.        ,  34.45286635,   2.        ],\n",
       "       [ 21.        ,  38.        ,  35.73513677,   3.        ],\n",
       "       [ 30.        ,  31.        ,  37.41657387,   4.        ],\n",
       "       [ 22.        ,  40.        ,  37.76241518,   4.        ],\n",
       "       [ 35.        ,  43.        ,  40.08740451,   5.        ],\n",
       "       [ 36.        ,  41.        ,  44.65422712,   4.        ],\n",
       "       [  7.        ,  33.        ,  52.31634544,   3.        ],\n",
       "       [ 18.        ,  45.        ,  55.22680509,   5.        ],\n",
       "       [ 39.        ,  46.        ,  60.8194048 ,   8.        ],\n",
       "       [  8.        ,  42.        ,  61.64414003,   3.        ],\n",
       "       [ 47.        ,  49.        ,  66.15889963,   9.        ],\n",
       "       [ 44.        ,  50.        ,  68.556546  ,  12.        ],\n",
       "       [ 37.        ,  48.        ,  72.38784428,   5.        ],\n",
       "       [ 51.        ,  54.        ,  83.58229478,   8.        ],\n",
       "       [ 52.        ,  53.        , 119.07980517,  21.        ],\n",
       "       [ 19.        ,  55.        , 170.05587317,   9.        ],\n",
       "       [ 56.        ,  57.        , 199.46177579,  30.        ]])"
      ]
     },
     "execution_count": 267,
     "metadata": {},
     "output_type": "execute_result"
    }
   ],
   "source": [
    "# Final check\n",
    "hac([calc_features(row) for row in load_data('Pokemon.csv')][:30])"
   ]
  },
  {
   "cell_type": "code",
   "execution_count": 268,
   "metadata": {},
   "outputs": [
    {
     "data": {
      "text/plain": [
       "array([[ 13.        ,  16.        ,  10.        ,   2.        ],\n",
       "       [ 14.        ,  17.        ,  10.        ,   2.        ],\n",
       "       [ 24.        ,  26.        ,  14.03566885,   2.        ],\n",
       "       [  3.        ,  12.        ,  14.73091986,   2.        ],\n",
       "       [ 25.        ,  27.        ,  20.42057786,   2.        ],\n",
       "       [  0.        ,   9.        ,  22.09072203,   2.        ],\n",
       "       [  1.        ,  10.        ,  22.8035085 ,   2.        ],\n",
       "       [  2.        ,  11.        ,  23.34523506,   2.        ],\n",
       "       [  4.        ,  28.        ,  24.43358345,   2.        ],\n",
       "       [ 20.        ,  32.        ,  24.53568829,   3.        ],\n",
       "       [ 29.        ,  34.        ,  28.39013913,   3.        ],\n",
       "       [  5.        ,  15.        ,  29.22327839,   2.        ],\n",
       "       [  6.        ,  23.        ,  34.45286635,   2.        ],\n",
       "       [ 21.        ,  38.        ,  35.73513677,   3.        ],\n",
       "       [ 30.        ,  31.        ,  37.41657387,   4.        ],\n",
       "       [ 22.        ,  40.        ,  37.76241518,   4.        ],\n",
       "       [ 35.        ,  43.        ,  40.08740451,   5.        ],\n",
       "       [ 36.        ,  41.        ,  44.65422712,   4.        ],\n",
       "       [  7.        ,  33.        ,  52.31634544,   3.        ],\n",
       "       [ 18.        ,  45.        ,  55.22680509,   5.        ],\n",
       "       [ 39.        ,  46.        ,  60.8194048 ,   8.        ],\n",
       "       [  8.        ,  42.        ,  61.64414003,   3.        ],\n",
       "       [ 47.        ,  49.        ,  66.15889963,   9.        ],\n",
       "       [ 44.        ,  50.        ,  68.556546  ,  12.        ],\n",
       "       [ 37.        ,  48.        ,  72.38784428,   5.        ],\n",
       "       [ 51.        ,  54.        ,  83.58229478,   8.        ],\n",
       "       [ 52.        ,  53.        , 119.07980517,  21.        ],\n",
       "       [ 19.        ,  55.        , 170.05587317,   9.        ],\n",
       "       [ 56.        ,  57.        , 199.46177579,  30.        ]])"
      ]
     },
     "execution_count": 268,
     "metadata": {},
     "output_type": "execute_result"
    }
   ],
   "source": [
    "linkage([calc_features(row) for row in load_data('Pokemon.csv')][:30], method='complete')"
   ]
  },
  {
   "cell_type": "code",
   "execution_count": 269,
   "metadata": {},
   "outputs": [
    {
     "data": {
      "image/png": "[encoded data removed]",
      "text/plain": [
       "<Figure size 640x480 with 1 Axes>"
      ]
     },
     "metadata": {},
     "output_type": "display_data"
    }
   ],
   "source": [
    "# Check plot\n",
    "imshow_hac(linkage([calc_features(row) for row in load_data('Pokemon.csv')][:100], method='complete'))"
   ]
  },
  {
   "cell_type": "code",
   "execution_count": 270,
   "metadata": {},
   "outputs": [
    {
     "data": {
      "image/png": "[encoded data removed]",
      "text/plain": [
       "<Figure size 640x480 with 1 Axes>"
      ]
     },
     "metadata": {},
     "output_type": "display_data"
    }
   ],
   "source": [
    "\n",
    "# Check plot\n",
    "imshow_hac(hac([calc_features(row) for row in load_data('Pokemon.csv')][:100]))"
   ]
  }
 ],
 "metadata": {
  "kernelspec": {
   "display_name": "Python 3.10.7 64-bit",
   "language": "python",
   "name": "python3"
  },
  "language_info": {
   "codemirror_mode": {
    "name": "ipython",
    "version": 3
   },
   "file_extension": ".py",
   "mimetype": "text/x-python",
   "name": "python",
   "nbconvert_exporter": "python",
   "pygments_lexer": "ipython3",
   "version": "3.10.7"
  },
  "orig_nbformat": 4,
  "vscode": {
   "interpreter": {
    "hash": "08b548a7b33d8e52ba72283b925dc5e7d21aa4d35e95bd9ec49b3daa38441d41"
   }
  }
 },
 "nbformat": 4,
 "nbformat_minor": 2
}
