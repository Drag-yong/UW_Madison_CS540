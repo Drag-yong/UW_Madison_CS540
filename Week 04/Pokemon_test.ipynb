{
 "cells": [
  {
   "cell_type": "code",
   "execution_count": 49,
   "metadata": {},
   "outputs": [],
   "source": [
    "import csv\n",
    "from re import I, X\n",
    "from scipy.linalg import eigh\n",
    "import numpy as np\n",
    "import matplotlib.pyplot as plt"
   ]
  },
  {
   "cell_type": "code",
   "execution_count": 50,
   "metadata": {},
   "outputs": [],
   "source": [
    "def load_data(filepath):\n",
    "    \n",
    "    with open(filepath, encoding=\"UTF8\") as csvfile:\n",
    "        pokemon = csv.DictReader(csvfile)\n",
    "\n",
    "        output = []\n",
    "        for data in pokemon:\n",
    "            output.append(data)\n",
    "            \n",
    "        # pop #,Name,Type 1,Type 2,Total\n",
    "        popData = ['#', 'Name', 'Type 1', 'Type 2', 'Total', 'Generation', 'Legendary']\n",
    "        for data in output:\n",
    "            for key in popData:\n",
    "                data.pop(key)\n",
    "    return output"
   ]
  },
  {
   "cell_type": "code",
   "execution_count": 51,
   "metadata": {},
   "outputs": [],
   "source": [
    "# load_data check\n",
    "pokemon_list = load_data(\"Pokemon.csv\")\n",
    "# display(pokemon_list)"
   ]
  },
  {
   "cell_type": "code",
   "execution_count": 66,
   "metadata": {},
   "outputs": [],
   "source": [
    "# input: dict representing one Pokemon\n",
    "# output: numpy array of shape (6,) and  dtype int64. The first element is x1 and so\n",
    "# on with the sixth element being x6.\n",
    "def calc_features(row):\n",
    "    output = np.dtype(np.int64)\n",
    "    output = np.array(list(row.items()))\n",
    "    return output"
   ]
  },
  {
   "cell_type": "code",
   "execution_count": 67,
   "metadata": {},
   "outputs": [
    {
     "ename": "TypeError",
     "evalue": "int() argument must be a string, a bytes-like object or a real number, not 'list'",
     "output_type": "error",
     "traceback": [
      "\u001b[1;31m---------------------------------------------------------------------------\u001b[0m",
      "\u001b[1;31mTypeError\u001b[0m                                 Traceback (most recent call last)",
      "Cell \u001b[1;32mIn [67], line 3\u001b[0m\n\u001b[0;32m      1\u001b[0m \u001b[39m# calc_features check\u001b[39;00m\n\u001b[0;32m      2\u001b[0m np_pokemon_list \u001b[39m=\u001b[39m []\n\u001b[1;32m----> 3\u001b[0m np_pokemon_list\u001b[39m.\u001b[39mappend(calc_features(pokemon_list[\u001b[39m0\u001b[39;49m]))\n\u001b[0;32m      4\u001b[0m np_pokemon_list\u001b[39m.\u001b[39mappend(calc_features(pokemon_list[\u001b[39m1\u001b[39m]))\n\u001b[0;32m      5\u001b[0m np_pokemon_list\u001b[39m.\u001b[39mappend(calc_features(pokemon_list[\u001b[39m2\u001b[39m]))\n",
      "Cell \u001b[1;32mIn [66], line 6\u001b[0m, in \u001b[0;36mcalc_features\u001b[1;34m(row)\u001b[0m\n\u001b[0;32m      4\u001b[0m \u001b[39mdef\u001b[39;00m \u001b[39mcalc_features\u001b[39m(row):\n\u001b[0;32m      5\u001b[0m     output \u001b[39m=\u001b[39m np\u001b[39m.\u001b[39mdtype(np\u001b[39m.\u001b[39mint64)\n\u001b[1;32m----> 6\u001b[0m     output \u001b[39m=\u001b[39m np\u001b[39m.\u001b[39marray(\u001b[39mint\u001b[39;49m(\u001b[39mlist\u001b[39;49m(row\u001b[39m.\u001b[39;49mitems())))\n\u001b[0;32m      7\u001b[0m     \u001b[39mreturn\u001b[39;00m output\n",
      "\u001b[1;31mTypeError\u001b[0m: int() argument must be a string, a bytes-like object or a real number, not 'list'"
     ]
    }
   ],
   "source": [
    "# calc_features check\n",
    "np_pokemon_list = []\n",
    "np_pokemon_list.append(calc_features(pokemon_list[0]))\n",
    "np_pokemon_list.append(calc_features(pokemon_list[1]))\n",
    "np_pokemon_list.append(calc_features(pokemon_list[2]))\n",
    "np_pokemon_list.append(calc_features(pokemon_list[3]))\n",
    "np_pokemon_list.append(calc_features(pokemon_list[4]))\n",
    "np_pokemon_list.append(calc_features(pokemon_list[5]))\n",
    "display(np_pokemon_list)"
   ]
  },
  {
   "cell_type": "code",
   "execution_count": null,
   "metadata": {},
   "outputs": [],
   "source": [
    "def hac(features):\n",
    "    \n",
    "    pass"
   ]
  },
  {
   "cell_type": "code",
   "execution_count": null,
   "metadata": {},
   "outputs": [],
   "source": [
    "# hac check\n",
    "hac(np_pokemon_list)"
   ]
  },
  {
   "cell_type": "code",
   "execution_count": null,
   "metadata": {},
   "outputs": [],
   "source": [
    "def imshow_hac(Z):\n",
    "    return plt.show();"
   ]
  },
  {
   "cell_type": "code",
   "execution_count": null,
   "metadata": {},
   "outputs": [],
   "source": [
    "# Final check\n",
    "hac([calc_features(row) for row in load_data('Pokemon.csv')][:6])"
   ]
  },
  {
   "cell_type": "code",
   "execution_count": null,
   "metadata": {},
   "outputs": [],
   "source": [
    "linkage([calc_features(row) for row in load_data('Pokemon.csv')][:6], method='complete')"
   ]
  },
  {
   "cell_type": "code",
   "execution_count": null,
   "metadata": {},
   "outputs": [],
   "source": [
    "# Check plot\n",
    "imshow_hac(linkage([calc_features(row) for row in load_data('Pokemon.csv')][:10], method='complete'))"
   ]
  },
  {
   "cell_type": "code",
   "execution_count": null,
   "metadata": {},
   "outputs": [],
   "source": []
  }
 ],
 "metadata": {
  "kernelspec": {
   "display_name": "Python 3.10.7 64-bit",
   "language": "python",
   "name": "python3"
  },
  "language_info": {
   "codemirror_mode": {
    "name": "ipython",
    "version": 3
   },
   "file_extension": ".py",
   "mimetype": "text/x-python",
   "name": "python",
   "nbconvert_exporter": "python",
   "pygments_lexer": "ipython3",
   "version": "3.10.7"
  },
  "orig_nbformat": 4,
  "vscode": {
   "interpreter": {
    "hash": "08b548a7b33d8e52ba72283b925dc5e7d21aa4d35e95bd9ec49b3daa38441d41"
   }
  }
 },
 "nbformat": 4,
 "nbformat_minor": 2
}
